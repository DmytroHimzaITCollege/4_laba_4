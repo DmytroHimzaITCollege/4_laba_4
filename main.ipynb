{
 "cells": [
  {
   "cell_type": "code",
   "execution_count": 7,
   "metadata": {},
   "outputs": [
    {
     "ename": "AssertionError",
     "evalue": "число має бути більшим за нуль!",
     "output_type": "error",
     "traceback": [
      "\u001b[1;31m---------------------------------------------------------------------------\u001b[0m",
      "\u001b[1;31mAssertionError\u001b[0m                            Traceback (most recent call last)",
      "Cell \u001b[1;32mIn [7], line 2\u001b[0m\n\u001b[0;32m      1\u001b[0m number \u001b[39m=\u001b[39m \u001b[39m-\u001b[39m\u001b[39m1\u001b[39m\n\u001b[1;32m----> 2\u001b[0m \u001b[39massert\u001b[39;00m number \u001b[39m>\u001b[39m \u001b[39m0\u001b[39m, \u001b[39m\"\u001b[39m\u001b[39mчисло має бути більшим за нуль!\u001b[39m\u001b[39m\"\u001b[39m\n",
      "\u001b[1;31mAssertionError\u001b[0m: число має бути більшим за нуль!"
     ]
    }
   ],
   "source": [
    "number = -1\n",
    "assert number > 0, \"число має бути більшим за нуль!\""
   ]
  },
  {
   "cell_type": "code",
   "execution_count": 8,
   "metadata": {},
   "outputs": [
    {
     "name": "stdout",
     "output_type": "stream",
     "text": [
      "введене число: 1\n"
     ]
    }
   ],
   "source": [
    "a = input(\"Введіть число: \")\n",
    "assert a.isdigit(), \"Потрібно ввести число!\"\n",
    "print(f\"введене число: {a}\")"
   ]
  },
  {
   "cell_type": "code",
   "execution_count": 15,
   "metadata": {},
   "outputs": [
    {
     "ename": "AssertionError",
     "evalue": "Дозволені фігури: квадрат, прямокутник, трикутник",
     "output_type": "error",
     "traceback": [
      "\u001b[1;31m---------------------------------------------------------------------------\u001b[0m",
      "\u001b[1;31mAssertionError\u001b[0m                            Traceback (most recent call last)",
      "Cell \u001b[1;32mIn [15], line 8\u001b[0m\n\u001b[0;32m      5\u001b[0m         \u001b[39mself\u001b[39m\u001b[39m.\u001b[39mtype \u001b[39m=\u001b[39m \u001b[39mtype\u001b[39m\n\u001b[0;32m      6\u001b[0m         \u001b[39mself\u001b[39m\u001b[39m.\u001b[39mlength \u001b[39m=\u001b[39m length\n\u001b[1;32m----> 8\u001b[0m a \u001b[39m=\u001b[39m Figure(\u001b[39m\"\u001b[39;49m\u001b[39mтрапеція\u001b[39;49m\u001b[39m\"\u001b[39;49m, \u001b[39m12\u001b[39;49m)\n\u001b[0;32m      9\u001b[0m b \u001b[39m=\u001b[39m Figure(\u001b[39m\"\u001b[39m\u001b[39mквадрат\u001b[39m\u001b[39m\"\u001b[39m, \u001b[39m0\u001b[39m)\n\u001b[0;32m     10\u001b[0m c \u001b[39m=\u001b[39m Figure(\u001b[39m\"\u001b[39m\u001b[39mквадрат\u001b[39m\u001b[39m\"\u001b[39m, \u001b[39m1\u001b[39m)\n",
      "Cell \u001b[1;32mIn [15], line 4\u001b[0m, in \u001b[0;36mFigure.__init__\u001b[1;34m(self, type, length)\u001b[0m\n\u001b[0;32m      2\u001b[0m \u001b[39mdef\u001b[39;00m \u001b[39m__init__\u001b[39m(\u001b[39mself\u001b[39m, \u001b[39mtype\u001b[39m, length) \u001b[39m-\u001b[39m\u001b[39m>\u001b[39m \u001b[39mNone\u001b[39;00m:\n\u001b[0;32m      3\u001b[0m     \u001b[39massert\u001b[39;00m length \u001b[39m>\u001b[39m \u001b[39m0\u001b[39m, \u001b[39m\"\u001b[39m\u001b[39mДовжина має бути більшою за 0!\u001b[39m\u001b[39m\"\u001b[39m\n\u001b[1;32m----> 4\u001b[0m     \u001b[39massert\u001b[39;00m \u001b[39mtype\u001b[39m \u001b[39min\u001b[39;00m [\u001b[39m\"\u001b[39m\u001b[39mквадрат\u001b[39m\u001b[39m\"\u001b[39m, \u001b[39m\"\u001b[39m\u001b[39mпрямокутник\u001b[39m\u001b[39m\"\u001b[39m, \u001b[39m\"\u001b[39m\u001b[39mтрикутник\u001b[39m\u001b[39m\"\u001b[39m], \u001b[39m\"\u001b[39m\u001b[39mДозволені фігури: квадрат, прямокутник, трикутник\u001b[39m\u001b[39m\"\u001b[39m\n\u001b[0;32m      5\u001b[0m     \u001b[39mself\u001b[39m\u001b[39m.\u001b[39mtype \u001b[39m=\u001b[39m \u001b[39mtype\u001b[39m\n\u001b[0;32m      6\u001b[0m     \u001b[39mself\u001b[39m\u001b[39m.\u001b[39mlength \u001b[39m=\u001b[39m length\n",
      "\u001b[1;31mAssertionError\u001b[0m: Дозволені фігури: квадрат, прямокутник, трикутник"
     ]
    }
   ],
   "source": [
    "class Figure:\n",
    "    def __init__(self, type, length) -> None:\n",
    "        assert length > 0, \"Довжина має бути більшою за 0!\"\n",
    "        assert type in [\"квадрат\", \"прямокутник\", \"трикутник\"], \"Дозволені фігури: квадрат, прямокутник, трикутник\"\n",
    "        self.type = type\n",
    "        self.length = length\n",
    "\n",
    "a = Figure(\"трапеція\", 12)\n",
    "b = Figure(\"квадрат\", 0)\n",
    "c = Figure(\"квадрат\", 1)"
   ]
  },
  {
   "cell_type": "code",
   "execution_count": 17,
   "metadata": {},
   "outputs": [
    {
     "ename": "SyntaxError",
     "evalue": "unterminated string literal (detected at line 10) (3689615818.py, line 10)",
     "output_type": "error",
     "traceback": [
      "\u001b[1;36m  Cell \u001b[1;32mIn [17], line 10\u001b[1;36m\u001b[0m\n\u001b[1;33m    raise ValueError(\"Дозволені хоббі: IT, Програмування)\u001b[0m\n\u001b[1;37m                     ^\u001b[0m\n\u001b[1;31mSyntaxError\u001b[0m\u001b[1;31m:\u001b[0m unterminated string literal (detected at line 10)\n"
     ]
    }
   ],
   "source": [
    "   class Name:\n",
    "   def __init__(self, name) -> None:\n",
    "   if name not in [\"Дмитро\", \"Анонім\"]:\n",
    "   raise ValueError(\"Дозволені імена: Дмитро, Анонім\")\n",
    "   self.name = name\n",
    "\n",
    "   class Hobby:\n",
    "   def __init__(self, hobby) -> None:\n",
    "   if hobby not in [\"IT\", \"Програмування\"]:\n",
    "   raise ValueError(\"Дозволені хоббі: IT, Програмування)\n",
    "   self.hobby = hobby\n",
    "\n",
    "   a = Name(\"IT\")"
   ]
  },
  {
   "cell_type": "code",
   "execution_count": 20,
   "metadata": {},
   "outputs": [],
   "source": [
    "class Figure:\n",
    "    FIGURES = [\"квадрат\", \"прямокутник\", \"трикутник\"]\n",
    "    def __init__(self, type, length) -> None:\n",
    "        assert length > 0, \"Довжина має бути більшою за 0!\"\n",
    "        assert type in self.FIGURES, \"Дозволені фігури: квадрат, прямокутник, трикутник\"\n",
    "        self.type = type\n",
    "        self.length = length\n",
    "\n",
    "    @property\n",
    "    def get_figure_type(self):\n",
    "        return self.type\n",
    "\n",
    "    @property\n",
    "    def get_figure_length(self):\n",
    "        return self.type # робимо помилку"
   ]
  },
  {
   "cell_type": "code",
   "execution_count": 21,
   "metadata": {},
   "outputs": [
    {
     "ename": "ModuleNotFoundError",
     "evalue": "No module named 'app'",
     "output_type": "error",
     "traceback": [
      "\u001b[1;31m---------------------------------------------------------------------------\u001b[0m",
      "\u001b[1;31mModuleNotFoundError\u001b[0m                       Traceback (most recent call last)",
      "Cell \u001b[1;32mIn [21], line 4\u001b[0m\n\u001b[0;32m      1\u001b[0m \u001b[39mimport\u001b[39;00m \u001b[39munittest\u001b[39;00m\n\u001b[0;32m      2\u001b[0m \u001b[39mfrom\u001b[39;00m \u001b[39mrandom\u001b[39;00m \u001b[39mimport\u001b[39;00m choice, randint\n\u001b[1;32m----> 4\u001b[0m \u001b[39mfrom\u001b[39;00m \u001b[39mapp\u001b[39;00m \u001b[39mimport\u001b[39;00m Figure \u001b[39m# назва файлу з нашим класом повинна бути app.py\u001b[39;00m\n\u001b[0;32m      6\u001b[0m \u001b[39mclass\u001b[39;00m \u001b[39mTestFigure\u001b[39;00m(unittest\u001b[39m.\u001b[39mTestCase):\n\u001b[0;32m      7\u001b[0m     \u001b[39m@classmethod\u001b[39m\n\u001b[0;32m      8\u001b[0m     \u001b[39mdef\u001b[39;00m \u001b[39msetUpClass\u001b[39m(\u001b[39mcls\u001b[39m):\n",
      "\u001b[1;31mModuleNotFoundError\u001b[0m: No module named 'app'"
     ]
    }
   ],
   "source": [
    "import unittest\n",
    "from random import choice, randint\n",
    "\n",
    "from app import Figure # назва файлу з нашим класом повинна бути app.py\n",
    "\n",
    "class TestFigure(unittest.TestCase):\n",
    "    @classmethod\n",
    "    def setUpClass(cls):\n",
    "        \"\"\"Виконається лише раз на початку тестів\n",
    "        \"\"\"\n",
    "        pass\n",
    "    \n",
    "    def setUp(self) -> None:\n",
    "        \"\"\"Виконується кожного разу коли запускається тест\n",
    "        \"\"\"\n",
    "        self.figure = choice(Figure.FIGURES)\n",
    "        self.length = randint(1, 10)\n",
    "        self.obj = Figure(self.figure, self.length)\n",
    "        return super().setUp()\n",
    "\n",
    "    def tearDown(self) -> None:\n",
    "        del self.obj\n",
    "        return super().tearDown()\n",
    "\n",
    "    def test_figure_type(self):\n",
    "        print(f\"Тестуємо вивід, має бути: {self.figure} == {self.obj.get_figure_type}\")\n",
    "        self.assertEqual(self.figure, self.obj.get_figure_type, \"Властивість get_figure_type повертає непривильну фігуру!\")\n",
    "\n",
    "    def test_figure_lengh(self):\n",
    "        self.assertEqual(self.length, self.obj.get_figure_length, \"Властивість get_figure_length повертає непривильну довжину!\")\n",
    "    \n",
    "    def test_obj(self):\n",
    "        with self.assertRaises(AssertionError):\n",
    "            Figure(\"коло\", 1) # Спробуємо створити обєкт з недозволеними параметрими, в нас має бути помилка AssertionError\n",
    "\n",
    "\n",
    "if __name__ == '__main__':\n",
    "    unittest.main() # unittest.main(verbosity=2) щоб був більш детальний вивід"
   ]
  },
  {
   "cell_type": "markdown",
   "metadata": {},
   "source": []
  }
 ],
 "metadata": {
  "kernelspec": {
   "display_name": "Python 3.11.0 64-bit",
   "language": "python",
   "name": "python3"
  },
  "language_info": {
   "codemirror_mode": {
    "name": "ipython",
    "version": 3
   },
   "file_extension": ".py",
   "mimetype": "text/x-python",
   "name": "python",
   "nbconvert_exporter": "python",
   "pygments_lexer": "ipython3",
   "version": "3.11.0"
  },
  "orig_nbformat": 4,
  "vscode": {
   "interpreter": {
    "hash": "f20ab87d6a3ff6ba42d2ef397e4f998400337c529080cfa5d542bf12e78eea55"
   }
  }
 },
 "nbformat": 4,
 "nbformat_minor": 2
}
